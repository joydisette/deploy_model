{
 "cells": [
  {
   "cell_type": "markdown",
   "source": [
    "# Llama or Alpaca? \n",
    "\n",
    "\n",
    "Did you know that __both Llamas and Alpacas are actual *Lamas* and they are part of the same *Camelidae* family as Camels and Dromadery__?  \n",
    "Yeah neither did I. but now look at the camel in this picture, can you see it? I guess it's easy to distinguish a camel from a llama, Llama from an Alpaca however?  yeah... My model can, kind of 👀 .  Upload your own picture below and give it a try  👇\n",
    "\n"
   ],
   "metadata": {}
  },
  {
   "cell_type": "markdown",
   "source": [
    "<img width = \"350\" alt=\"Domestic llama (2009-05-19)\" src=\"https://upload.wikimedia.org/wikipedia/commons/thumb/b/b8/Domestic_llama_%282009-05-19%29.jpg/512px-Domestic_llama_%282009-05-19%29.jpg\"> \n",
    "<img width=\"230\" alt=\"Alpaca (31562329701)\" src=\"https://upload.wikimedia.org/wikipedia/commons/thumb/d/db/Alpaca_%2831562329701%29.jpg/512px-Alpaca_%2831562329701%29.jpg\">  <img width=\"320\" alt=\"2011 Trampeltier 1528\" src=\"https://upload.wikimedia.org/wikipedia/commons/thumb/8/82/2011_Trampeltier_1528.JPG/512px-2011_Trampeltier_1528.JPG\">\n"
   ],
   "metadata": {}
  },
  {
   "cell_type": "code",
   "execution_count": 1,
   "source": [
    "from fastai.vision.all import *\n",
    "from fastai.vision.widgets import *\n",
    "from IPython.display import display"
   ],
   "outputs": [],
   "metadata": {}
  },
  {
   "cell_type": "code",
   "execution_count": 2,
   "source": [
    "#%% load model\n",
    "learn_inf = load_learner('./models/lamalpaca.pkl')"
   ],
   "outputs": [],
   "metadata": {}
  },
  {
   "cell_type": "code",
   "execution_count": 50,
   "source": [
    "# create buttons\n",
    "btn_upload = widgets.FileUpload()\n",
    "out_pl = widgets.Output()\n",
    "lbl_pred = widgets.Label()\n",
    "btn_run = widgets.Button(\n",
    "    description='Smash it! ',\n",
    "    icon = 'spinner',\n",
    "    disabled=False,\n",
    "     # (FontAwesome names without the `fa-` prefix),\n",
    "    style=dict(\n",
    "        font_weight='bold',\n",
    "        button_color = '#eebf17',\n",
    "        font_variant=\"small-caps\",\n",
    "        font_family=\"sans-serif\",\n",
    "        font_size=\"20px\",\n",
    "        ),\n",
    "    tooltip='Click me',)\n",
    "    "
   ],
   "outputs": [],
   "metadata": {}
  },
  {
   "cell_type": "code",
   "execution_count": 48,
   "source": [
    "def on_click_classify(change):\n",
    "    img = PILImage.create(btn_upload.data[-1]) \n",
    "    out_pl.clear_output()\n",
    "    with out_pl:\n",
    "        display(img.to_thumb(128,128))\n",
    "    pred, pred_idx, probs = learn_inf.predict(img)\n",
    "    if pred == 'Alpaca': \n",
    "        prompt = f'Eureka!'\n",
    "    else: \n",
    "        prompt = f'No drama!'\n",
    "    \n",
    "    lbl_pred.value = f'{prompt} I am {100*probs[pred_idx]:.02f}% certain I see a cute {pred}'"
   ],
   "outputs": [],
   "metadata": {}
  },
  {
   "cell_type": "markdown",
   "source": [
    "------------------"
   ],
   "metadata": {}
  },
  {
   "cell_type": "code",
   "execution_count": 20,
   "source": [
    "from IPython.display import Image"
   ],
   "outputs": [],
   "metadata": {}
  },
  {
   "cell_type": "markdown",
   "source": [
    "### Your turn!"
   ],
   "metadata": {}
  },
  {
   "cell_type": "code",
   "execution_count": 51,
   "source": [
    "btn_run.on_click(on_click_classify)\n",
    "btn_upload = widgets.FileUpload(\n",
    "    description='Upload picture',\n",
    "    icon='camera-retro',\n",
    "    style=dict(\n",
    "        button_color = '#72bb8b'))\n",
    "#hide_output\n",
    "VBox([widgets.Label(''), \n",
    "      btn_upload, btn_run, out_pl, lbl_pred])"
   ],
   "outputs": [
    {
     "output_type": "display_data",
     "data": {
      "application/vnd.jupyter.widget-view+json": {
       "model_id": "aa7c8d0715004f98b098a47fbd24e302",
       "version_major": 2,
       "version_minor": 0
      },
      "text/plain": [
       "VBox(children=(Label(value=''), FileUpload(value={}, description='Upload picture', icon='camera-retro', style=…"
      ]
     },
     "metadata": {}
    }
   ],
   "metadata": {
    "scrolled": false
   }
  },
  {
   "cell_type": "markdown",
   "source": [
    "Images via Wikimedia Commons:  \n",
    "- Camel by : [J. Patrick Fischer](https://commons.wikimedia.org/wiki/File:2011_Trampeltier_1528.JPG)  \n",
    "- Alpaca by [Tony Hisgett from Birmingham, UK](https://commons.wikimedia.org/wiki/File:Alpaca_(31562329701).jpg) \n",
    "- Llama by [Kim Foster](https://commons.wikimedia.org/wiki/File:Domestic_llama_(2009-05-19).jpg)"
   ],
   "metadata": {}
  },
  {
   "cell_type": "code",
   "execution_count": null,
   "source": [],
   "outputs": [],
   "metadata": {}
  },
  {
   "cell_type": "code",
   "execution_count": null,
   "source": [],
   "outputs": [],
   "metadata": {}
  }
 ],
 "metadata": {
  "interpreter": {
   "hash": "d00888cdcc5da1049d0f09d41c7ba89a927827120ddff1a48f1ba986f61c8a91"
  },
  "kernelspec": {
   "name": "python3",
   "display_name": "Python 3.6.9 64-bit ('.env': venv)"
  },
  "language_info": {
   "codemirror_mode": {
    "name": "ipython",
    "version": 3
   },
   "file_extension": ".py",
   "mimetype": "text/x-python",
   "name": "python",
   "nbconvert_exporter": "python",
   "pygments_lexer": "ipython3",
   "version": "3.6.9"
  }
 },
 "nbformat": 4,
 "nbformat_minor": 4
}